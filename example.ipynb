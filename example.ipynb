{
 "cells": [
  {
   "cell_type": "code",
   "execution_count": 1,
   "metadata": {},
   "outputs": [
    {
     "name": "stdout",
     "output_type": "stream",
     "text": [
      "[('spark.sql.repl.eagerEval.enabled', 'True'), ('spark.sql.shuffle.partitions', '1000'), ('spark.submit.pyFiles', '/Users/akimaina/.ivy2/jars/mysql_mysql-connector-java-5.1.46.jar,/Users/akimaina/.ivy2/jars/io.delta_delta-core_2.11-0.5.0.jar,/Users/akimaina/.ivy2/jars/org.antlr_antlr4-4.7.jar,/Users/akimaina/.ivy2/jars/org.antlr_antlr4-runtime-4.7.jar,/Users/akimaina/.ivy2/jars/org.antlr_antlr-runtime-3.5.2.jar,/Users/akimaina/.ivy2/jars/org.antlr_ST4-4.0.8.jar,/Users/akimaina/.ivy2/jars/org.abego.treelayout_org.abego.treelayout.core-1.0.3.jar,/Users/akimaina/.ivy2/jars/org.glassfish_javax.json-1.0.4.jar,/Users/akimaina/.ivy2/jars/com.ibm.icu_icu4j-58.2.jar'), ('spark.executor.memory', '10g'), ('spark.files', 'file:///Users/akimaina/.ivy2/jars/mysql_mysql-connector-java-5.1.46.jar,file:///Users/akimaina/.ivy2/jars/io.delta_delta-core_2.11-0.5.0.jar,file:///Users/akimaina/.ivy2/jars/org.antlr_antlr4-4.7.jar,file:///Users/akimaina/.ivy2/jars/org.antlr_antlr4-runtime-4.7.jar,file:///Users/akimaina/.ivy2/jars/org.antlr_antlr-runtime-3.5.2.jar,file:///Users/akimaina/.ivy2/jars/org.antlr_ST4-4.0.8.jar,file:///Users/akimaina/.ivy2/jars/org.abego.treelayout_org.abego.treelayout.core-1.0.3.jar,file:///Users/akimaina/.ivy2/jars/org.glassfish_javax.json-1.0.4.jar,file:///Users/akimaina/.ivy2/jars/com.ibm.icu_icu4j-58.2.jar'), ('spark.driver.memory', '40g'), ('spark.app.name', 'pyspark-shell'), ('spark.repl.local.jars', 'file:///Users/akimaina/.ivy2/jars/mysql_mysql-connector-java-5.1.46.jar,file:///Users/akimaina/.ivy2/jars/io.delta_delta-core_2.11-0.5.0.jar,file:///Users/akimaina/.ivy2/jars/org.antlr_antlr4-4.7.jar,file:///Users/akimaina/.ivy2/jars/org.antlr_antlr4-runtime-4.7.jar,file:///Users/akimaina/.ivy2/jars/org.antlr_antlr-runtime-3.5.2.jar,file:///Users/akimaina/.ivy2/jars/org.antlr_ST4-4.0.8.jar,file:///Users/akimaina/.ivy2/jars/org.abego.treelayout_org.abego.treelayout.core-1.0.3.jar,file:///Users/akimaina/.ivy2/jars/org.glassfish_javax.json-1.0.4.jar,file:///Users/akimaina/.ivy2/jars/com.ibm.icu_icu4j-58.2.jar'), ('spark.sql.crossJoin.enabled', 'True'), ('spark.jars', 'file:///Users/akimaina/.ivy2/jars/mysql_mysql-connector-java-5.1.46.jar,file:///Users/akimaina/.ivy2/jars/io.delta_delta-core_2.11-0.5.0.jar,file:///Users/akimaina/.ivy2/jars/org.antlr_antlr4-4.7.jar,file:///Users/akimaina/.ivy2/jars/org.antlr_antlr4-runtime-4.7.jar,file:///Users/akimaina/.ivy2/jars/org.antlr_antlr-runtime-3.5.2.jar,file:///Users/akimaina/.ivy2/jars/org.antlr_ST4-4.0.8.jar,file:///Users/akimaina/.ivy2/jars/org.abego.treelayout_org.abego.treelayout.core-1.0.3.jar,file:///Users/akimaina/.ivy2/jars/org.glassfish_javax.json-1.0.4.jar,file:///Users/akimaina/.ivy2/jars/com.ibm.icu_icu4j-58.2.jar'), ('spark.master', 'local[*]'), ('spark.driver.maxResultSize', '15000M'), ('spark.submit.deployMode', 'client'), ('spark.sql.autoBroadcastJoinThreshold', '0'), ('spark.ui.showConsoleProgress', 'true')]\n"
     ]
    }
   ],
   "source": [
    "import os\n",
    "import sys\n",
    "from pyspark import SparkContext, SparkConf\n",
    "from batch.encounter_job import EncounterJob\n",
    "print(SparkConf().getAll()) # check of all packages are loaded"
   ]
  },
  {
   "cell_type": "code",
   "execution_count": 2,
   "metadata": {},
   "outputs": [
    {
     "name": "stdout",
     "output_type": "stream",
     "text": [
      "Computing Obs ...\n",
      "Encounter Batch Job took 4.64 seconds\n"
     ]
    },
    {
     "data": {
      "text/html": [
       "<table border='1'>\n",
       "<tr><th>encounter_id</th><th>person_id</th><th>type</th><th>location_id</th><th>person_uuid</th><th>couch_id</th><th>uuid</th><th>encounterdatetime</th><th>encountertype</th><th>form</th><th>location</th><th>encounterproviders</th><th>visit</th><th>orders</th><th>obs</th><th>build_date</th></tr>\n",
       "<tr><td>496</td><td>45</td><td>encounter</td><td>1</td><td>b93fe5b8-9d85-454...</td><td>496</td><td>3b119016-5e1c-48a...</td><td>2017-01-02 07:11:27</td><td>[Visit Note, d715...</td><td>[Visit Note, c75f...</td><td>[Unknown Location...</td><td>[]</td><td>{&quot;uuid&quot;:&quot;8b779a90...</td><td>[]</td><td>[{&quot;uuid&quot;:&quot;obs_uui...</td><td>2020-02-20 14:52:...</td></tr>\n",
       "<tr><td>833</td><td>74</td><td>encounter</td><td>7</td><td>c977b8e6-7953-412...</td><td>833</td><td>177fa586-4972-4c6...</td><td>2015-04-18 06:26:12</td><td>[Vitals, 67a71486...</td><td>[Vitals, a000cb34...</td><td>[Outpatient Clini...</td><td>[]</td><td>{&quot;uuid&quot;:&quot;7a7b61cb...</td><td>[]</td><td>[{&quot;uuid&quot;:&quot;obs_uui...</td><td>2020-02-20 14:52:...</td></tr>\n",
       "<tr><td>1342</td><td>117</td><td>encounter</td><td>1</td><td>b4ae857a-2d2d-47a...</td><td>1342</td><td>a13bfe1b-a49f-47a...</td><td>2016-03-07 07:31:26</td><td>[Visit Note, d715...</td><td>[Visit Note, c75f...</td><td>[Unknown Location...</td><td>[]</td><td>{&quot;uuid&quot;:&quot;1d1b841d...</td><td>[]</td><td>[{&quot;uuid&quot;:&quot;obs_uui...</td><td>2020-02-20 14:52:...</td></tr>\n",
       "<tr><td>1591</td><td>143</td><td>encounter</td><td>7</td><td>f8465d06-df4d-419...</td><td>1591</td><td>a9e6ba68-1309-4cb...</td><td>2015-09-13 06:48:32</td><td>[Vitals, 67a71486...</td><td>[Vitals, a000cb34...</td><td>[Outpatient Clini...</td><td>[]</td><td>{&quot;uuid&quot;:&quot;698ca0ab...</td><td>[]</td><td>[{&quot;uuid&quot;:&quot;obs_uui...</td><td>2020-02-20 14:52:...</td></tr>\n",
       "<tr><td>2122</td><td>199</td><td>encounter</td><td>1</td><td>fbe65acb-1fb4-4c4...</td><td>2122</td><td>b64b65e0-71a4-4dc...</td><td>2017-01-08 07:33:51</td><td>[Visit Note, d715...</td><td>[Visit Note, c75f...</td><td>[Unknown Location...</td><td>[]</td><td>{&quot;uuid&quot;:&quot;26b2920f...</td><td>[]</td><td>[{&quot;uuid&quot;:&quot;obs_uui...</td><td>2020-02-20 14:52:...</td></tr>\n",
       "<tr><td>2366</td><td>226</td><td>encounter</td><td>1</td><td>580613c5-280e-4e4...</td><td>2366</td><td>9f57ee7d-b451-437...</td><td>2016-10-25 07:30:56</td><td>[Visit Note, d715...</td><td>[Visit Note, c75f...</td><td>[Unknown Location...</td><td>[]</td><td>{&quot;uuid&quot;:&quot;b609ab10...</td><td>[]</td><td>[{&quot;uuid&quot;:&quot;obs_uui...</td><td>2020-02-20 14:52:...</td></tr>\n",
       "<tr><td>3918</td><td>351</td><td>encounter</td><td>1</td><td>6ba84150-ac8a-45e...</td><td>3918</td><td>b2f00d9f-3ddd-491...</td><td>2015-06-20 08:16:37</td><td>[Visit Note, d715...</td><td>[Visit Note, c75f...</td><td>[Unknown Location...</td><td>[]</td><td>{&quot;uuid&quot;:&quot;391679cb...</td><td>[]</td><td>[{&quot;uuid&quot;:&quot;obs_uui...</td><td>2020-02-20 14:52:...</td></tr>\n",
       "<tr><td>4101</td><td>373</td><td>encounter</td><td>7</td><td>a71be44b-d351-4c1...</td><td>4101</td><td>d464ab98-c8d0-44f...</td><td>2015-02-12 06:51:04</td><td>[Vitals, 67a71486...</td><td>[Vitals, a000cb34...</td><td>[Outpatient Clini...</td><td>[]</td><td>{&quot;uuid&quot;:&quot;9ef4520e...</td><td>[]</td><td>[{&quot;uuid&quot;:&quot;obs_uui...</td><td>2020-02-20 14:52:...</td></tr>\n",
       "<tr><td>4519</td><td>406</td><td>encounter</td><td>7</td><td>4fd4987f-b0a7-47d...</td><td>4519</td><td>b8db8e42-4a3a-45d...</td><td>2015-09-02 06:39:31</td><td>[Vitals, 67a71486...</td><td>[Vitals, a000cb34...</td><td>[Outpatient Clini...</td><td>[]</td><td>{&quot;uuid&quot;:&quot;9b9d14d9...</td><td>[]</td><td>[{&quot;uuid&quot;:&quot;obs_uui...</td><td>2020-02-20 14:52:...</td></tr>\n",
       "<tr><td>243</td><td>24</td><td>encounter</td><td>7</td><td>c4f0a856-5abe-47f...</td><td>243</td><td>4867d03c-849f-457...</td><td>2016-08-30 06:57:19</td><td>[Vitals, 67a71486...</td><td>[Vitals, a000cb34...</td><td>[Outpatient Clini...</td><td>[]</td><td>{&quot;uuid&quot;:&quot;db01b047...</td><td>[]</td><td>[{&quot;uuid&quot;:&quot;obs_uui...</td><td>2020-02-20 14:52:...</td></tr>\n",
       "<tr><td>540</td><td>49</td><td>encounter</td><td>1</td><td>261c0746-ddff-437...</td><td>540</td><td>86afa6ed-11b3-42c...</td><td>2016-03-29 07:06:47</td><td>[Visit Note, d715...</td><td>[Visit Note, c75f...</td><td>[Unknown Location...</td><td>[]</td><td>{&quot;uuid&quot;:&quot;9161f02b...</td><td>[]</td><td>[{&quot;uuid&quot;:&quot;obs_uui...</td><td>2020-02-20 14:52:...</td></tr>\n",
       "<tr><td>3226</td><td>294</td><td>encounter</td><td>1</td><td>950850df-a77b-451...</td><td>3226</td><td>75774aa5-5537-4ad...</td><td>2015-05-09 08:22:02</td><td>[Visit Note, d715...</td><td>[Visit Note, c75f...</td><td>[Unknown Location...</td><td>[]</td><td>{&quot;uuid&quot;:&quot;bea3109b...</td><td>[]</td><td>[{&quot;uuid&quot;:&quot;obs_uui...</td><td>2020-02-20 14:52:...</td></tr>\n",
       "<tr><td>4190</td><td>381</td><td>encounter</td><td>1</td><td>41d874f3-1d34-4e6...</td><td>4190</td><td>cd75f7ff-2c40-4b9...</td><td>2015-08-04 07:46:49</td><td>[Visit Note, d715...</td><td>[Visit Note, c75f...</td><td>[Unknown Location...</td><td>[]</td><td>{&quot;uuid&quot;:&quot;34d7e9c4...</td><td>[]</td><td>[{&quot;uuid&quot;:&quot;obs_uui...</td><td>2020-02-20 14:52:...</td></tr>\n",
       "<tr><td>1650</td><td>148</td><td>encounter</td><td>1</td><td>44a2b724-da4f-48c...</td><td>1650</td><td>44011167-08c2-476...</td><td>2016-06-13 08:06:01</td><td>[Visit Note, d715...</td><td>[Visit Note, c75f...</td><td>[Unknown Location...</td><td>[]</td><td>{&quot;uuid&quot;:&quot;09c1b1cf...</td><td>[]</td><td>[{&quot;uuid&quot;:&quot;obs_uui...</td><td>2020-02-20 14:52:...</td></tr>\n",
       "<tr><td>2711</td><td>254</td><td>encounter</td><td>7</td><td>71055de8-3c7c-421...</td><td>2711</td><td>04c837e8-7ba2-46a...</td><td>2015-07-25 07:21:49</td><td>[Vitals, 67a71486...</td><td>[Vitals, a000cb34...</td><td>[Outpatient Clini...</td><td>[]</td><td>{&quot;uuid&quot;:&quot;b8839121...</td><td>[]</td><td>[{&quot;uuid&quot;:&quot;obs_uui...</td><td>2020-02-20 14:52:...</td></tr>\n",
       "<tr><td>3352</td><td>301</td><td>encounter</td><td>1</td><td>4b714699-433e-4d3...</td><td>3352</td><td>c13e626c-5491-4d6...</td><td>2015-09-22 08:23:04</td><td>[Visit Note, d715...</td><td>[Visit Note, c75f...</td><td>[Unknown Location...</td><td>[]</td><td>{&quot;uuid&quot;:&quot;0cca2562...</td><td>[]</td><td>[{&quot;uuid&quot;:&quot;obs_uui...</td><td>2020-02-20 14:52:...</td></tr>\n",
       "<tr><td>3761</td><td>339</td><td>encounter</td><td>7</td><td>b6d9789f-d93b-475...</td><td>3761</td><td>32f89731-4450-495...</td><td>2015-04-10 06:43:22</td><td>[Vitals, 67a71486...</td><td>[Vitals, a000cb34...</td><td>[Outpatient Clini...</td><td>[]</td><td>{&quot;uuid&quot;:&quot;cd18cece...</td><td>[]</td><td>[{&quot;uuid&quot;:&quot;obs_uui...</td><td>2020-02-20 14:52:...</td></tr>\n",
       "<tr><td>2443</td><td>233</td><td>encounter</td><td>7</td><td>2953a957-aee5-4f6...</td><td>2443</td><td>fc45fbba-6f16-424...</td><td>2016-05-04 07:05:35</td><td>[Vitals, 67a71486...</td><td>[Vitals, a000cb34...</td><td>[Outpatient Clini...</td><td>[]</td><td>{&quot;uuid&quot;:&quot;84a13153...</td><td>[]</td><td>[{&quot;uuid&quot;:&quot;obs_uui...</td><td>2020-02-20 14:52:...</td></tr>\n",
       "<tr><td>2488</td><td>235</td><td>encounter</td><td>1</td><td>be6310b3-5036-4bc...</td><td>2488</td><td>0632fffa-ab4c-4f3...</td><td>2016-04-11 08:01:57</td><td>[Visit Note, d715...</td><td>[Visit Note, c75f...</td><td>[Unknown Location...</td><td>[]</td><td>{&quot;uuid&quot;:&quot;22c596d3...</td><td>[]</td><td>[{&quot;uuid&quot;:&quot;obs_uui...</td><td>2020-02-20 14:52:...</td></tr>\n",
       "<tr><td>2748</td><td>256</td><td>encounter</td><td>1</td><td>7cc2ca9c-90db-458...</td><td>2748</td><td>a0e9edc2-9556-49a...</td><td>2015-02-19 08:15:06</td><td>[Visit Note, d715...</td><td>[Visit Note, c75f...</td><td>[Unknown Location...</td><td>[]</td><td>{&quot;uuid&quot;:&quot;7ab9d91d...</td><td>[]</td><td>[{&quot;uuid&quot;:&quot;obs_uui...</td><td>2020-02-20 14:52:...</td></tr>\n",
       "</table>\n",
       "only showing top 20 rows\n"
      ],
      "text/plain": [
       "+------------+---------+---------+-----------+--------------------+--------+--------------------+-------------------+--------------------+--------------------+--------------------+------------------+--------------------+------+--------------------+--------------------+\n",
       "|encounter_id|person_id|     type|location_id|         person_uuid|couch_id|                uuid|  encounterdatetime|       encountertype|                form|            location|encounterproviders|               visit|orders|                 obs|          build_date|\n",
       "+------------+---------+---------+-----------+--------------------+--------+--------------------+-------------------+--------------------+--------------------+--------------------+------------------+--------------------+------+--------------------+--------------------+\n",
       "|         496|       45|encounter|          1|b93fe5b8-9d85-454...|     496|3b119016-5e1c-48a...|2017-01-02 07:11:27|[Visit Note, d715...|[Visit Note, c75f...|[Unknown Location...|                []|{\"uuid\":\"8b779a90...|    []|[{\"uuid\":\"obs_uui...|2020-02-20 14:51:...|\n",
       "|         833|       74|encounter|          7|c977b8e6-7953-412...|     833|177fa586-4972-4c6...|2015-04-18 06:26:12|[Vitals, 67a71486...|[Vitals, a000cb34...|[Outpatient Clini...|                []|{\"uuid\":\"7a7b61cb...|    []|[{\"uuid\":\"obs_uui...|2020-02-20 14:51:...|\n",
       "|        1342|      117|encounter|          1|b4ae857a-2d2d-47a...|    1342|a13bfe1b-a49f-47a...|2016-03-07 07:31:26|[Visit Note, d715...|[Visit Note, c75f...|[Unknown Location...|                []|{\"uuid\":\"1d1b841d...|    []|[{\"uuid\":\"obs_uui...|2020-02-20 14:51:...|\n",
       "|        1591|      143|encounter|          7|f8465d06-df4d-419...|    1591|a9e6ba68-1309-4cb...|2015-09-13 06:48:32|[Vitals, 67a71486...|[Vitals, a000cb34...|[Outpatient Clini...|                []|{\"uuid\":\"698ca0ab...|    []|[{\"uuid\":\"obs_uui...|2020-02-20 14:51:...|\n",
       "|        2122|      199|encounter|          1|fbe65acb-1fb4-4c4...|    2122|b64b65e0-71a4-4dc...|2017-01-08 07:33:51|[Visit Note, d715...|[Visit Note, c75f...|[Unknown Location...|                []|{\"uuid\":\"26b2920f...|    []|[{\"uuid\":\"obs_uui...|2020-02-20 14:51:...|\n",
       "|        2366|      226|encounter|          1|580613c5-280e-4e4...|    2366|9f57ee7d-b451-437...|2016-10-25 07:30:56|[Visit Note, d715...|[Visit Note, c75f...|[Unknown Location...|                []|{\"uuid\":\"b609ab10...|    []|[{\"uuid\":\"obs_uui...|2020-02-20 14:51:...|\n",
       "|        3918|      351|encounter|          1|6ba84150-ac8a-45e...|    3918|b2f00d9f-3ddd-491...|2015-06-20 08:16:37|[Visit Note, d715...|[Visit Note, c75f...|[Unknown Location...|                []|{\"uuid\":\"391679cb...|    []|[{\"uuid\":\"obs_uui...|2020-02-20 14:51:...|\n",
       "|        4101|      373|encounter|          7|a71be44b-d351-4c1...|    4101|d464ab98-c8d0-44f...|2015-02-12 06:51:04|[Vitals, 67a71486...|[Vitals, a000cb34...|[Outpatient Clini...|                []|{\"uuid\":\"9ef4520e...|    []|[{\"uuid\":\"obs_uui...|2020-02-20 14:51:...|\n",
       "|        4519|      406|encounter|          7|4fd4987f-b0a7-47d...|    4519|b8db8e42-4a3a-45d...|2015-09-02 06:39:31|[Vitals, 67a71486...|[Vitals, a000cb34...|[Outpatient Clini...|                []|{\"uuid\":\"9b9d14d9...|    []|[{\"uuid\":\"obs_uui...|2020-02-20 14:51:...|\n",
       "|         243|       24|encounter|          7|c4f0a856-5abe-47f...|     243|4867d03c-849f-457...|2016-08-30 06:57:19|[Vitals, 67a71486...|[Vitals, a000cb34...|[Outpatient Clini...|                []|{\"uuid\":\"db01b047...|    []|[{\"uuid\":\"obs_uui...|2020-02-20 14:51:...|\n",
       "|         540|       49|encounter|          1|261c0746-ddff-437...|     540|86afa6ed-11b3-42c...|2016-03-29 07:06:47|[Visit Note, d715...|[Visit Note, c75f...|[Unknown Location...|                []|{\"uuid\":\"9161f02b...|    []|[{\"uuid\":\"obs_uui...|2020-02-20 14:51:...|\n",
       "|        3226|      294|encounter|          1|950850df-a77b-451...|    3226|75774aa5-5537-4ad...|2015-05-09 08:22:02|[Visit Note, d715...|[Visit Note, c75f...|[Unknown Location...|                []|{\"uuid\":\"bea3109b...|    []|[{\"uuid\":\"obs_uui...|2020-02-20 14:51:...|\n",
       "|        4190|      381|encounter|          1|41d874f3-1d34-4e6...|    4190|cd75f7ff-2c40-4b9...|2015-08-04 07:46:49|[Visit Note, d715...|[Visit Note, c75f...|[Unknown Location...|                []|{\"uuid\":\"34d7e9c4...|    []|[{\"uuid\":\"obs_uui...|2020-02-20 14:51:...|\n",
       "|        1650|      148|encounter|          1|44a2b724-da4f-48c...|    1650|44011167-08c2-476...|2016-06-13 08:06:01|[Visit Note, d715...|[Visit Note, c75f...|[Unknown Location...|                []|{\"uuid\":\"09c1b1cf...|    []|[{\"uuid\":\"obs_uui...|2020-02-20 14:51:...|\n",
       "|        2711|      254|encounter|          7|71055de8-3c7c-421...|    2711|04c837e8-7ba2-46a...|2015-07-25 07:21:49|[Vitals, 67a71486...|[Vitals, a000cb34...|[Outpatient Clini...|                []|{\"uuid\":\"b8839121...|    []|[{\"uuid\":\"obs_uui...|2020-02-20 14:51:...|\n",
       "|        3352|      301|encounter|          1|4b714699-433e-4d3...|    3352|c13e626c-5491-4d6...|2015-09-22 08:23:04|[Visit Note, d715...|[Visit Note, c75f...|[Unknown Location...|                []|{\"uuid\":\"0cca2562...|    []|[{\"uuid\":\"obs_uui...|2020-02-20 14:51:...|\n",
       "|        3761|      339|encounter|          7|b6d9789f-d93b-475...|    3761|32f89731-4450-495...|2015-04-10 06:43:22|[Vitals, 67a71486...|[Vitals, a000cb34...|[Outpatient Clini...|                []|{\"uuid\":\"cd18cece...|    []|[{\"uuid\":\"obs_uui...|2020-02-20 14:51:...|\n",
       "|        2443|      233|encounter|          7|2953a957-aee5-4f6...|    2443|fc45fbba-6f16-424...|2016-05-04 07:05:35|[Vitals, 67a71486...|[Vitals, a000cb34...|[Outpatient Clini...|                []|{\"uuid\":\"84a13153...|    []|[{\"uuid\":\"obs_uui...|2020-02-20 14:51:...|\n",
       "|        2488|      235|encounter|          1|be6310b3-5036-4bc...|    2488|0632fffa-ab4c-4f3...|2016-04-11 08:01:57|[Visit Note, d715...|[Visit Note, c75f...|[Unknown Location...|                []|{\"uuid\":\"22c596d3...|    []|[{\"uuid\":\"obs_uui...|2020-02-20 14:51:...|\n",
       "|        2748|      256|encounter|          1|7cc2ca9c-90db-458...|    2748|a0e9edc2-9556-49a...|2015-02-19 08:15:06|[Visit Note, d715...|[Visit Note, c75f...|[Unknown Location...|                []|{\"uuid\":\"7ab9d91d...|    []|[{\"uuid\":\"obs_uui...|2020-02-20 14:51:...|\n",
       "+------------+---------+---------+-----------+--------------------+--------+--------------------+-------------------+--------------------+--------------------+--------------------+------------------+--------------------+------+--------------------+--------------------+\n",
       "only showing top 20 rows"
      ]
     },
     "execution_count": 2,
     "metadata": {},
     "output_type": "execute_result"
    }
   ],
   "source": [
    "job = EncounterJob()\n",
    "flat_obs = job.run()\n",
    "flat_obs"
   ]
  },
  {
   "cell_type": "code",
   "execution_count": 3,
   "metadata": {},
   "outputs": [
    {
     "name": "stdout",
     "output_type": "stream",
     "text": [
      "CPU times: user 43.3 ms, sys: 35.4 ms, total: 78.7 ms\n",
      "Wall time: 7min 15s\n"
     ]
    }
   ],
   "source": [
    "%%time\n",
    "flat_obs.write.format(\"delta\").save(\"flat_obs\")"
   ]
  }
 ],
 "metadata": {
  "kernelspec": {
   "display_name": "Python 3.7.4 64-bit ('anaconda3': virtualenv)",
   "language": "python",
   "name": "python37464bitanaconda3virtualenvefdffc192b144e2b98dfc27892fa181f"
  },
  "language_info": {
   "codemirror_mode": {
    "name": "ipython",
    "version": 3
   },
   "file_extension": ".py",
   "mimetype": "text/x-python",
   "name": "python",
   "nbconvert_exporter": "python",
   "pygments_lexer": "ipython3",
   "version": "3.7.4"
  }
 },
 "nbformat": 4,
 "nbformat_minor": 2
}
