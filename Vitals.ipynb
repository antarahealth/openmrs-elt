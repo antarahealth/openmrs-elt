{
 "cells": [
  {
   "cell_type": "code",
   "execution_count": 1,
   "metadata": {},
   "outputs": [],
   "source": [
    "import os\n",
    "import sys\n",
    "from pyspark import SparkContext, SparkConf\n",
    "from streaming.encounter_job import EncounterJob\n",
    "from common.utils import PipelineUtils\n",
    "spark=PipelineUtils.getSpark()\n",
    "#print(SparkConf().getAll())"
   ]
  },
  {
   "cell_type": "code",
   "execution_count": 2,
   "metadata": {},
   "outputs": [
    {
     "name": "stdout",
     "output_type": "stream",
     "text": [
      "root\n",
      " |-- encounter_id: integer (nullable = true)\n",
      " |-- patient_id: integer (nullable = true)\n",
      " |-- location_id: integer (nullable = true)\n",
      " |-- visit_id: long (nullable = true)\n",
      " |-- encounter_datetime: timestamp (nullable = true)\n",
      " |-- encounter_type: long (nullable = true)\n",
      " |-- dead: boolean (nullable = true)\n",
      " |-- gender: string (nullable = true)\n",
      " |-- death_date: timestamp (nullable = true)\n",
      " |-- patient_uuid: string (nullable = true)\n",
      " |-- visit_type_id: long (nullable = true)\n",
      " |-- birthdate: date (nullable = true)\n",
      " |-- obs: array (nullable = true)\n",
      " |    |-- element: struct (containsNull = true)\n",
      " |    |    |-- obs_id: long (nullable = true)\n",
      " |    |    |-- voided: boolean (nullable = true)\n",
      " |    |    |-- concept_id: integer (nullable = true)\n",
      " |    |    |-- obs_datetime: timestamp (nullable = true)\n",
      " |    |    |-- value: string (nullable = true)\n",
      " |    |    |-- value_type: string (nullable = true)\n",
      " |    |    |-- obs_group_id: integer (nullable = true)\n",
      " |    |    |-- parent_concept_id: integer (nullable = true)\n",
      " |-- orders: array (nullable = true)\n",
      " |    |-- element: struct (containsNull = true)\n",
      " |    |    |-- order_id: long (nullable = true)\n",
      " |    |    |-- order_concept_id: integer (nullable = true)\n",
      " |    |    |-- date_activated: timestamp (nullable = true)\n",
      " |    |    |-- voided: boolean (nullable = true)\n",
      "\n"
     ]
    }
   ],
   "source": [
    "# import and optimize\n",
    "spark.sql(\"DROP TABLE IF EXISTS flat_obs\")\n",
    "spark.sql(\"CREATE TABLE flat_obs USING DELTA LOCATION 'flat_obs_orders.delta'\")   \n",
    "df = spark.sql(\"select * from flat_obs\")\n",
    "df.printSchema()"
   ]
  },
  {
   "cell_type": "code",
   "execution_count": 3,
   "metadata": {},
   "outputs": [
    {
     "name": "stdout",
     "output_type": "stream",
     "text": [
      "root\n",
      " |-- encounter_id: integer (nullable = true)\n",
      " |-- patient_id: integer (nullable = true)\n",
      " |-- location_id: integer (nullable = true)\n",
      " |-- visit_id: long (nullable = true)\n",
      " |-- encounter_datetime: timestamp (nullable = true)\n",
      " |-- encounter_type: long (nullable = true)\n",
      " |-- dead: boolean (nullable = true)\n",
      " |-- gender: string (nullable = true)\n",
      " |-- death_date: timestamp (nullable = true)\n",
      " |-- patient_uuid: string (nullable = true)\n",
      " |-- visit_type_id: long (nullable = true)\n",
      " |-- birthdate: date (nullable = true)\n",
      " |-- obs: struct (nullable = true)\n",
      " |    |-- obs_id: long (nullable = true)\n",
      " |    |-- voided: boolean (nullable = true)\n",
      " |    |-- concept_id: integer (nullable = true)\n",
      " |    |-- obs_datetime: timestamp (nullable = true)\n",
      " |    |-- value: string (nullable = true)\n",
      " |    |-- value_type: string (nullable = true)\n",
      " |    |-- obs_group_id: integer (nullable = true)\n",
      " |    |-- parent_concept_id: integer (nullable = true)\n",
      " |-- orders: struct (nullable = true)\n",
      " |    |-- order_id: long (nullable = true)\n",
      " |    |-- order_concept_id: integer (nullable = true)\n",
      " |    |-- date_activated: timestamp (nullable = true)\n",
      " |    |-- voided: boolean (nullable = true)\n",
      "\n",
      "CPU times: user 2.56 ms, sys: 1.69 ms, total: 4.25 ms\n",
      "Wall time: 50.5 ms\n"
     ]
    }
   ],
   "source": [
    "%%time\n",
    "import pyspark.sql.functions as f\n",
    "nested_df = df.withColumn(\"obs\", f.explode_outer(\"obs\"))\\\n",
    "                .withColumn(\"orders\", f.explode_outer(\"orders\"))\n",
    "\n",
    "nested_df.createOrReplaceTempView(\"nested_df\")\n",
    "\n",
    "nested_df.printSchema()\n"
   ]
  },
  {
   "cell_type": "code",
   "execution_count": 4,
   "metadata": {},
   "outputs": [
    {
     "name": "stdout",
     "output_type": "stream",
     "text": [
      "CPU times: user 1.08 ms, sys: 1.39 ms, total: 2.47 ms\n",
      "Wall time: 109 ms\n"
     ]
    }
   ],
   "source": [
    "%%time\n",
    "spark.sql(\"\"\"select \n",
    "             *, \n",
    "             case\n",
    "                when obs.concept_id = 1839 then obs.value\n",
    "                else null\n",
    "                end as scheduled_visit,\n",
    "              case\n",
    "                when obs.concept_id = 5089 then obs.value\n",
    "                else null\n",
    "                end as weight,\n",
    "              case\n",
    "                when obs.concept_id = 5090 then obs.value\n",
    "                else null\n",
    "                end as height,\n",
    "              case\n",
    "                when obs.concept_id = 5088 then obs.value\n",
    "                else null\n",
    "                end as temp,\n",
    "            case\n",
    "                when obs.concept_id = 5092 then obs.value\n",
    "                else null\n",
    "                end as oxygen_sat,\n",
    "            case\n",
    "                when obs.concept_id = 5085 then obs.value\n",
    "                else null\n",
    "                end as systolic_bp,\n",
    "             case\n",
    "                when obs.concept_id = 5086 then obs.value\n",
    "                else null\n",
    "                end as diastolic_bp,\n",
    "            case\n",
    "                when obs.concept_id = 5087 then obs.value\n",
    "                else null\n",
    "                end as pulse\n",
    "\n",
    "    from nested_df\n",
    "                     \"\"\") .createOrReplaceTempView(\"vitals1\")\n"
   ]
  },
  {
   "cell_type": "code",
   "execution_count": 5,
   "metadata": {},
   "outputs": [
    {
     "name": "stdout",
     "output_type": "stream",
     "text": [
      "CPU times: user 1.16 ms, sys: 1.44 ms, total: 2.6 ms\n",
      "Wall time: 67.3 ms\n"
     ]
    }
   ],
   "source": [
    "%%time\n",
    "spark.sql(\"\"\"select\n",
    "\n",
    "                first(patient_id, true) as patient_id,\n",
    "                encounter_id,\n",
    "                first(location_id) as location_id,\n",
    "                first(encounter_datetime) as encounter_datetime,\n",
    "                first(encounter_type) as encounter_type,\n",
    "                first(gender) as gender,\n",
    "                first(birthdate) as birthdate,\n",
    "                first(weight, true) as weight_1,\n",
    "                first(height, true) as height_1,\n",
    "                first(temp, true) as temp_1,\n",
    "                first(oxygen_sat, true) as oxygen_sat_1,\n",
    "                first(systolic_bp, true) as systolic_bp_1,\n",
    "                first(diastolic_bp, true) as diastolic_bp_1,\n",
    "                first(pulse, true) as pulse_1\n",
    "                from vitals1\n",
    "            group by encounter_id\n",
    "        \"\"\").createOrReplaceTempView(\"vitals2\")"
   ]
  },
  {
   "cell_type": "code",
   "execution_count": 6,
   "metadata": {},
   "outputs": [
    {
     "data": {
      "text/html": [
       "<table border='1'>\n",
       "<tr><th>patient_id</th><th>encounter_id</th><th>encounter_datetime</th><th>weight</th><th>height</th><th>temp</th><th>oxygen_sat</th><th>systolic_bp</th><th>diastolic_bp</th><th>pulse</th></tr>\n",
       "<tr><td>69</td><td>763</td><td>2016-09-06 09:33:37</td><td>248.0</td><td>97.0</td><td>41.0</td><td>21.0</td><td>227.0</td><td>19.0</td><td>190.0</td></tr>\n",
       "<tr><td>69</td><td>764</td><td>2016-09-06 10:13:37</td><td>248.0</td><td>97.0</td><td>41.0</td><td>21.0</td><td>227.0</td><td>19.0</td><td>190.0</td></tr>\n",
       "<tr><td>94</td><td>1071</td><td>2016-03-14 09:50:16</td><td>14.0</td><td>91.0</td><td>42.0</td><td>75.0</td><td>170.0</td><td>76.0</td><td>0.0</td></tr>\n",
       "<tr><td>94</td><td>1072</td><td>2016-03-14 10:50:16</td><td>14.0</td><td>91.0</td><td>42.0</td><td>75.0</td><td>170.0</td><td>76.0</td><td>0.0</td></tr>\n",
       "<tr><td>157</td><td>1721</td><td>2015-03-28 09:32:34</td><td>65.0</td><td>119.0</td><td>27.0</td><td>10.0</td><td>163.0</td><td>129.0</td><td>14.0</td></tr>\n",
       "<tr><td>157</td><td>1722</td><td>2015-03-28 10:38:34</td><td>65.0</td><td>119.0</td><td>27.0</td><td>10.0</td><td>163.0</td><td>129.0</td><td>14.0</td></tr>\n",
       "<tr><td>236</td><td>2517</td><td>2015-09-28 10:02:12</td><td>182.0</td><td>204.0</td><td>37.0</td><td>49.0</td><td>108.0</td><td>83.0</td><td>220.0</td></tr>\n",
       "<tr><td>236</td><td>2518</td><td>2015-09-28 10:40:12</td><td>182.0</td><td>204.0</td><td>37.0</td><td>49.0</td><td>108.0</td><td>83.0</td><td>220.0</td></tr>\n",
       "<tr><td>245</td><td>2611</td><td>2015-07-05 09:24:59</td><td>4.0</td><td>76.0</td><td>29.0</td><td>65.0</td><td>192.0</td><td>60.0</td><td>197.0</td></tr>\n",
       "<tr><td>245</td><td>2612</td><td>2015-07-05 10:28:59</td><td>4.0</td><td>76.0</td><td>29.0</td><td>65.0</td><td>192.0</td><td>60.0</td><td>197.0</td></tr>\n",
       "<tr><td>478</td><td>5365</td><td>2015-02-15 09:55:37</td><td>64.0</td><td>109.0</td><td>40.0</td><td>27.0</td><td>230.0</td><td>97.0</td><td>36.0</td></tr>\n",
       "<tr><td>478</td><td>5366</td><td>2015-02-15 10:44:37</td><td>64.0</td><td>109.0</td><td>40.0</td><td>27.0</td><td>230.0</td><td>97.0</td><td>36.0</td></tr>\n",
       "<tr><td>365</td><td>4015</td><td>2015-08-21 10:12:22</td><td>10.0</td><td>225.0</td><td>38.0</td><td>48.0</td><td>246.0</td><td>13.0</td><td>183.0</td></tr>\n",
       "<tr><td>365</td><td>4016</td><td>2015-08-21 11:22:22</td><td>10.0</td><td>225.0</td><td>38.0</td><td>48.0</td><td>246.0</td><td>13.0</td><td>183.0</td></tr>\n",
       "<tr><td>370</td><td>4057</td><td>2016-02-15 09:59:43</td><td>208.0</td><td>144.0</td><td>28.0</td><td>26.0</td><td>146.0</td><td>132.0</td><td>143.0</td></tr>\n",
       "<tr><td>370</td><td>4058</td><td>2016-02-15 10:39:43</td><td>208.0</td><td>144.0</td><td>28.0</td><td>26.0</td><td>146.0</td><td>132.0</td><td>143.0</td></tr>\n",
       "<tr><td>426</td><td>4709</td><td>2016-09-10 10:03:02</td><td>106.0</td><td>119.0</td><td>37.0</td><td>28.0</td><td>161.0</td><td>19.0</td><td>33.0</td></tr>\n",
       "<tr><td>426</td><td>4710</td><td>2016-09-10 11:35:02</td><td>106.0</td><td>119.0</td><td>37.0</td><td>28.0</td><td>161.0</td><td>19.0</td><td>33.0</td></tr>\n",
       "<tr><td>15</td><td>99</td><td>2015-08-14 09:56:05</td><td>1.0</td><td>73.0</td><td>29.0</td><td>13.0</td><td>85.0</td><td>117.0</td><td>77.0</td></tr>\n",
       "<tr><td>15</td><td>100</td><td>2015-08-14 10:21:05</td><td>1.0</td><td>73.0</td><td>29.0</td><td>13.0</td><td>85.0</td><td>117.0</td><td>77.0</td></tr>\n",
       "</table>\n",
       "only showing top 20 rows\n"
      ],
      "text/plain": [
       "+----------+------------+-------------------+------+------+----+----------+-----------+------------+-----+\n",
       "|patient_id|encounter_id| encounter_datetime|weight|height|temp|oxygen_sat|systolic_bp|diastolic_bp|pulse|\n",
       "+----------+------------+-------------------+------+------+----+----------+-----------+------------+-----+\n",
       "|        69|         763|2016-09-06 09:33:37| 248.0|  97.0|41.0|      21.0|      227.0|        19.0|190.0|\n",
       "|        69|         764|2016-09-06 10:13:37| 248.0|  97.0|41.0|      21.0|      227.0|        19.0|190.0|\n",
       "|        94|        1071|2016-03-14 09:50:16|  14.0|  91.0|42.0|      75.0|      170.0|        76.0|  0.0|\n",
       "|        94|        1072|2016-03-14 10:50:16|  14.0|  91.0|42.0|      75.0|      170.0|        76.0|  0.0|\n",
       "|       157|        1721|2015-03-28 09:32:34|  65.0| 119.0|27.0|      10.0|      163.0|       129.0| 14.0|\n",
       "|       157|        1722|2015-03-28 10:38:34|  65.0| 119.0|27.0|      10.0|      163.0|       129.0| 14.0|\n",
       "|       236|        2517|2015-09-28 10:02:12| 182.0| 204.0|37.0|      49.0|      108.0|        83.0|220.0|\n",
       "|       236|        2518|2015-09-28 10:40:12| 182.0| 204.0|37.0|      49.0|      108.0|        83.0|220.0|\n",
       "|       245|        2611|2015-07-05 09:24:59|   4.0|  76.0|29.0|      65.0|      192.0|        60.0|197.0|\n",
       "|       245|        2612|2015-07-05 10:28:59|   4.0|  76.0|29.0|      65.0|      192.0|        60.0|197.0|\n",
       "|       478|        5365|2015-02-15 09:55:37|  64.0| 109.0|40.0|      27.0|      230.0|        97.0| 36.0|\n",
       "|       478|        5366|2015-02-15 10:44:37|  64.0| 109.0|40.0|      27.0|      230.0|        97.0| 36.0|\n",
       "|       365|        4015|2015-08-21 10:12:22|  10.0| 225.0|38.0|      48.0|      246.0|        13.0|183.0|\n",
       "|       365|        4016|2015-08-21 11:22:22|  10.0| 225.0|38.0|      48.0|      246.0|        13.0|183.0|\n",
       "|       370|        4057|2016-02-15 09:59:43| 208.0| 144.0|28.0|      26.0|      146.0|       132.0|143.0|\n",
       "|       370|        4058|2016-02-15 10:39:43| 208.0| 144.0|28.0|      26.0|      146.0|       132.0|143.0|\n",
       "|       426|        4709|2016-09-10 10:03:02| 106.0| 119.0|37.0|      28.0|      161.0|        19.0| 33.0|\n",
       "|       426|        4710|2016-09-10 11:35:02| 106.0| 119.0|37.0|      28.0|      161.0|        19.0| 33.0|\n",
       "|        15|          99|2015-08-14 09:56:05|   1.0|  73.0|29.0|      13.0|       85.0|       117.0| 77.0|\n",
       "|        15|         100|2015-08-14 10:21:05|   1.0|  73.0|29.0|      13.0|       85.0|       117.0| 77.0|\n",
       "+----------+------------+-------------------+------+------+----+----------+-----------+------------+-----+\n",
       "only showing top 20 rows"
      ]
     },
     "execution_count": 6,
     "metadata": {},
     "output_type": "execute_result"
    }
   ],
   "source": [
    "vitals = spark.sql(\"\"\"select patient_id,encounter_id,encounter_datetime,\n",
    "        case \n",
    "            when weight_1 is null and  lead(first(weight_1, true) over p) over p is not null\n",
    "            then  lead(first(weight_1, true) over p) over p else first(weight_1, true) over p \n",
    "            end as weight,\n",
    "        case \n",
    "            when height_1 is null and  lead(first(height_1, true) over p) over p is not null\n",
    "            then  lead(first(height_1, true) over p) over p else first(height_1, true) over p \n",
    "            end as height,\n",
    "        case \n",
    "            when temp_1 is null and  lead(first(temp_1, true) over p) over p is not null\n",
    "            then  lead(first(temp_1, true) over p) over p else first(temp_1, true) over p \n",
    "            end as temp,\n",
    "        case \n",
    "            when oxygen_sat_1 is null and  lead(first(oxygen_sat_1, true) over p) over p is not null\n",
    "            then  lead(first(oxygen_sat_1, true) over p) over p else first(oxygen_sat_1, true) over p \n",
    "            end as oxygen_sat,\n",
    "        case \n",
    "            when systolic_bp_1 is null and  lead(first(systolic_bp_1, true) over p) over p is not null\n",
    "            then  lead(first(systolic_bp_1, true) over p) over p else first(systolic_bp_1, true) over p \n",
    "            end as systolic_bp,\n",
    "        case \n",
    "            when diastolic_bp_1 is null and  lead(first(diastolic_bp_1, true) over p) over p is not null\n",
    "            then  lead(first(diastolic_bp_1, true) over p) over p else first(diastolic_bp_1, true) over p \n",
    "            end as diastolic_bp,\n",
    "        case \n",
    "            when pulse_1 is null and  lead(first(pulse_1, true) over p) over p is not null\n",
    "            then  lead(first(pulse_1, true) over p) over p else first(pulse_1, true) over p \n",
    "            end as pulse\n",
    "     from vitals2\n",
    "     window p as (partition by patient_id, to_date(encounter_datetime)  order by encounter_datetime)\n",
    "\"\"\")\n",
    "vitals"
   ]
  },
  {
   "cell_type": "code",
   "execution_count": 11,
   "metadata": {},
   "outputs": [
    {
     "data": {
      "text/html": [
       "<table border='1'>\n",
       "<tr><th>patient_id</th><th>encounter_id</th><th>encounter_datetime</th><th>weight</th><th>height</th><th>temp</th><th>oxygen_sat</th><th>systolic_bp</th><th>diastolic_bp</th><th>pulse</th></tr>\n",
       "<tr><td>25</td><td>266</td><td>2016-05-09 10:25:31</td><td>152.0</td><td>199.0</td><td>43.0</td><td>51.0</td><td>4.0</td><td>143.0</td><td>34.0</td></tr>\n",
       "<tr><td>411</td><td>4578</td><td>2016-12-14 11:25:59</td><td>170.0</td><td>23.0</td><td>43.0</td><td>53.0</td><td>35.0</td><td>139.0</td><td>164.0</td></tr>\n",
       "<tr><td>25</td><td>265</td><td>2016-05-09 09:47:31</td><td>152.0</td><td>199.0</td><td>43.0</td><td>51.0</td><td>4.0</td><td>143.0</td><td>34.0</td></tr>\n",
       "<tr><td>403</td><td>4453</td><td>2015-07-11 10:34:00</td><td>73.0</td><td>155.0</td><td>43.0</td><td>21.0</td><td>153.0</td><td>145.0</td><td>32.0</td></tr>\n",
       "<tr><td>411</td><td>4577</td><td>2016-12-14 10:05:59</td><td>170.0</td><td>23.0</td><td>43.0</td><td>53.0</td><td>35.0</td><td>139.0</td><td>164.0</td></tr>\n",
       "<tr><td>77</td><td>876</td><td>2016-08-08 10:33:34</td><td>139.0</td><td>180.0</td><td>43.0</td><td>9.0</td><td>209.0</td><td>87.0</td><td>92.0</td></tr>\n",
       "<tr><td>436</td><td>4839</td><td>2015-10-27 10:30:04</td><td>226.0</td><td>47.0</td><td>43.0</td><td>28.0</td><td>54.0</td><td>129.0</td><td>24.0</td></tr>\n",
       "<tr><td>403</td><td>4454</td><td>2015-07-11 11:20:00</td><td>73.0</td><td>155.0</td><td>43.0</td><td>21.0</td><td>153.0</td><td>145.0</td><td>32.0</td></tr>\n",
       "<tr><td>76</td><td>857</td><td>2016-08-15 09:43:25</td><td>141.0</td><td>79.0</td><td>43.0</td><td>20.0</td><td>54.0</td><td>133.0</td><td>57.0</td></tr>\n",
       "<tr><td>436</td><td>4840</td><td>2015-10-27 10:41:04</td><td>226.0</td><td>47.0</td><td>43.0</td><td>28.0</td><td>54.0</td><td>129.0</td><td>24.0</td></tr>\n",
       "<tr><td>394</td><td>4345</td><td>2015-02-26 10:27:08</td><td>52.0</td><td>80.0</td><td>43.0</td><td>3.0</td><td>208.0</td><td>78.0</td><td>28.0</td></tr>\n",
       "<tr><td>21</td><td>192</td><td>2015-03-16 10:55:54</td><td>166.0</td><td>58.0</td><td>43.0</td><td>94.0</td><td>17.0</td><td>98.0</td><td>180.0</td></tr>\n",
       "<tr><td>76</td><td>861</td><td>2016-08-15 09:23:27</td><td>141.0</td><td>79.0</td><td>43.0</td><td>20.0</td><td>54.0</td><td>133.0</td><td>57.0</td></tr>\n",
       "<tr><td>76</td><td>862</td><td>2016-08-15 11:00:27</td><td>141.0</td><td>79.0</td><td>43.0</td><td>20.0</td><td>54.0</td><td>133.0</td><td>57.0</td></tr>\n",
       "<tr><td>60</td><td>678</td><td>2015-12-06 10:15:52</td><td>11.0</td><td>107.0</td><td>43.0</td><td>45.0</td><td>3.0</td><td>26.0</td><td>62.0</td></tr>\n",
       "<tr><td>60</td><td>677</td><td>2015-12-06 09:25:52</td><td>11.0</td><td>107.0</td><td>43.0</td><td>45.0</td><td>3.0</td><td>26.0</td><td>62.0</td></tr>\n",
       "<tr><td>77</td><td>875</td><td>2016-08-08 09:09:34</td><td>139.0</td><td>180.0</td><td>43.0</td><td>9.0</td><td>209.0</td><td>87.0</td><td>92.0</td></tr>\n",
       "<tr><td>394</td><td>4346</td><td>2015-02-26 10:43:08</td><td>52.0</td><td>80.0</td><td>43.0</td><td>3.0</td><td>208.0</td><td>78.0</td><td>28.0</td></tr>\n",
       "<tr><td>76</td><td>858</td><td>2016-08-15 10:18:25</td><td>141.0</td><td>79.0</td><td>43.0</td><td>20.0</td><td>54.0</td><td>133.0</td><td>57.0</td></tr>\n",
       "<tr><td>21</td><td>191</td><td>2015-03-16 09:53:54</td><td>166.0</td><td>58.0</td><td>43.0</td><td>94.0</td><td>17.0</td><td>98.0</td><td>180.0</td></tr>\n",
       "</table>\n",
       "only showing top 20 rows\n"
      ],
      "text/plain": [
       "+----------+------------+-------------------+------+------+----+----------+-----------+------------+-----+\n",
       "|patient_id|encounter_id| encounter_datetime|weight|height|temp|oxygen_sat|systolic_bp|diastolic_bp|pulse|\n",
       "+----------+------------+-------------------+------+------+----+----------+-----------+------------+-----+\n",
       "|       436|        4839|2015-10-27 10:30:04| 226.0|  47.0|43.0|      28.0|       54.0|       129.0| 24.0|\n",
       "|        25|         266|2016-05-09 10:25:31| 152.0| 199.0|43.0|      51.0|        4.0|       143.0| 34.0|\n",
       "|       411|        4578|2016-12-14 11:25:59| 170.0|  23.0|43.0|      53.0|       35.0|       139.0|164.0|\n",
       "|        77|         875|2016-08-08 09:09:34| 139.0| 180.0|43.0|       9.0|      209.0|        87.0| 92.0|\n",
       "|        25|         265|2016-05-09 09:47:31| 152.0| 199.0|43.0|      51.0|        4.0|       143.0| 34.0|\n",
       "|       394|        4346|2015-02-26 10:43:08|  52.0|  80.0|43.0|       3.0|      208.0|        78.0| 28.0|\n",
       "|       411|        4577|2016-12-14 10:05:59| 170.0|  23.0|43.0|      53.0|       35.0|       139.0|164.0|\n",
       "|        60|         677|2015-12-06 09:25:52|  11.0| 107.0|43.0|      45.0|        3.0|        26.0| 62.0|\n",
       "|        77|         876|2016-08-08 10:33:34| 139.0| 180.0|43.0|       9.0|      209.0|        87.0| 92.0|\n",
       "|       403|        4454|2015-07-11 11:20:00|  73.0| 155.0|43.0|      21.0|      153.0|       145.0| 32.0|\n",
       "|       403|        4453|2015-07-11 10:34:00|  73.0| 155.0|43.0|      21.0|      153.0|       145.0| 32.0|\n",
       "|        21|         191|2015-03-16 09:53:54| 166.0|  58.0|43.0|      94.0|       17.0|        98.0|180.0|\n",
       "|        76|         861|2016-08-15 09:23:27| 141.0|  79.0|43.0|      20.0|       54.0|       133.0| 57.0|\n",
       "|        76|         857|2016-08-15 09:43:25| 141.0|  79.0|43.0|      20.0|       54.0|       133.0| 57.0|\n",
       "|       436|        4840|2015-10-27 10:41:04| 226.0|  47.0|43.0|      28.0|       54.0|       129.0| 24.0|\n",
       "|        21|         192|2015-03-16 10:55:54| 166.0|  58.0|43.0|      94.0|       17.0|        98.0|180.0|\n",
       "|        76|         862|2016-08-15 11:00:27| 141.0|  79.0|43.0|      20.0|       54.0|       133.0| 57.0|\n",
       "|       394|        4345|2015-02-26 10:27:08|  52.0|  80.0|43.0|       3.0|      208.0|        78.0| 28.0|\n",
       "|        60|         678|2015-12-06 10:15:52|  11.0| 107.0|43.0|      45.0|        3.0|        26.0| 62.0|\n",
       "|        76|         858|2016-08-15 10:18:25| 141.0|  79.0|43.0|      20.0|       54.0|       133.0| 57.0|\n",
       "+----------+------------+-------------------+------+------+----+----------+-----------+------------+-----+\n",
       "only showing top 20 rows"
      ]
     },
     "execution_count": 11,
     "metadata": {},
     "output_type": "execute_result"
    }
   ],
   "source": [
    "from pyspark.sql.functions import col\n",
    "vitals.sort(col(\"temp\").desc())"
   ]
  },
  {
   "cell_type": "markdown",
   "metadata": {},
   "source": [
    "Check the status: http://localhost:4040/streaming/"
   ]
  }
 ],
 "metadata": {
  "kernelspec": {
   "display_name": "Python 3.7.4 64-bit ('anaconda3': virtualenv)",
   "language": "python",
   "name": "python37464bitanaconda3virtualenvefdffc192b144e2b98dfc27892fa181f"
  },
  "language_info": {
   "codemirror_mode": {
    "name": "ipython",
    "version": 3
   },
   "file_extension": ".py",
   "mimetype": "text/x-python",
   "name": "python",
   "nbconvert_exporter": "python",
   "pygments_lexer": "ipython3",
   "version": "3.7.4"
  }
 },
 "nbformat": 4,
 "nbformat_minor": 2
}
